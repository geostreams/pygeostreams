{
 "cells": [
  {
   "cell_type": "markdown",
   "metadata": {},
   "source": [
    "# <span style=\"color:darkblue\">Using the Geostreams API</span>\n",
    "As of January 2020 gltg has 32,122,836 datapoints.<br>\n",
    "<span style=\"color:red\">Please don't fetch all of them at once.</span>\n",
    "<hr>\n",
    "\n"
   ]
  },
  {
   "cell_type": "code",
   "execution_count": 1,
   "metadata": {},
   "outputs": [],
   "source": [
    "import requests\n",
    "import json\n",
    "import csv\n",
    "from csv import DictWriter"
   ]
  },
  {
   "cell_type": "markdown",
   "metadata": {},
   "source": [
    "### Set general parameters\n",
    "<span style=\"color:red\">Go to the api_server route to create an account!</span><br>\n",
    "<span style=\"color:green\">Set server, user credentials, and location for downloads</span>"
   ]
  },
  {
   "cell_type": "code",
   "execution_count": 2,
   "metadata": {},
   "outputs": [],
   "source": [
    "api_server = r\"https://greatlakestogulf.org/geostreams\"\n",
    "user = {'identifier': '******', 'password': '******'}\n",
    "\n",
    "output_directory = r\"downloads\""
   ]
  },
  {
   "cell_type": "markdown",
   "metadata": {},
   "source": [
    "### Authenticate"
   ]
  },
  {
   "cell_type": "code",
   "execution_count": 3,
   "metadata": {},
   "outputs": [
    {
     "name": "stdout",
     "output_type": "stream",
     "text": [
      "Authentication status: 200 for https://greatlakestogulf.org/geostreams\n"
     ]
    }
   ],
   "source": [
    "r = requests.post(api_server + '/api/authenticate', data=json.dumps(user), headers={'Content-Type': 'application/json'})\n",
    "print(\"Authentication status:\", r.status_code, \"for\", api_server)\n",
    "headers = {\"x-auth-token\": r.headers[\"x-auth-token\"], \"Content-Encoding\": \"application/json\"}"
   ]
  },
  {
   "cell_type": "markdown",
   "metadata": {},
   "source": [
    "<hr>\n",
    "\n",
    "## <span style=\"color:darkblue\">Sensor routes</span>"
   ]
  },
  {
   "cell_type": "markdown",
   "metadata": {},
   "source": [
    "### Get CSV of all sensors with parameters"
   ]
  },
  {
   "cell_type": "code",
   "execution_count": 4,
   "metadata": {},
   "outputs": [
    {
     "name": "stdout",
     "output_type": "stream",
     "text": [
      "downloads/gltg_sensors.csv\n",
      "Sensors skipped 92 of Sensors total 1296\n"
     ]
    }
   ],
   "source": [
    "sensors = requests.get(api_server + \"/api/sensors\",headers=headers).json()[\"sensors\"]\n",
    "\n",
    "print(output_directory + '/gltg_sensors.csv')\n",
    "\n",
    "with open(output_directory + '/gltg_sensors.csv', 'w') as f:\n",
    "    fieldnames = [\n",
    "        'source','name','location', 'longitude', 'latitude', 'max_end_time', 'min_start_time',\n",
    "        'parameters' , 'huc8', 'huc_name', 'online_status'\n",
    "    ]\n",
    "\n",
    "    writer = DictWriter(f, fieldnames=fieldnames)\n",
    "    writer.writeheader()\n",
    "\n",
    "    n_sensors = 0\n",
    "    n_sensors_pos = 0\n",
    "    for sensor in sensors:\n",
    "        n_sensors += 1\n",
    "        parameters_list = []\n",
    "        for param in sensor['parameters']:\n",
    "            if param in ['owner','source','unit_code']:\n",
    "                continue\n",
    "            if param[-3:] != \"-qc\":\n",
    "                parameters_list.append(param + ',\\n')\n",
    "        parameters = \"\".join(parameters_list)\n",
    "\n",
    "        huc8 = None\n",
    "        if 'code' in sensor['properties']['huc']['huc8']:\n",
    "            huc8 = sensor['properties']['huc']['huc8']['code']\n",
    "        else:\n",
    "            huc8 = sensor['properties']['huc']['huc8']\n",
    "\n",
    "        if len(parameters) == 0:\n",
    "            n_sensors_pos += 1\n",
    "            continue\n",
    "\n",
    "        writer.writerow({\n",
    "            \"source\": sensor['properties']['type']['title'],\n",
    "            \"name\": sensor['name'],\n",
    "            \"location\": sensor['properties'].get('location', \"\"),\n",
    "            'longitude': str(sensor['geometry']['coordinates'][0]),\n",
    "            'latitude': str(sensor['geometry']['coordinates'][1]),\n",
    "            'max_end_time': sensor.get('max_end_time',''),\n",
    "            'min_start_time': sensor.get('min_start_time',''),\n",
    "            'parameters': parameters,\n",
    "            'huc8': huc8,\n",
    "            'huc_name': sensor['properties']['huc'].get('huc_name',''),\n",
    "            'online_status': sensor['properties'].get('online_status',\"\")\n",
    "        })\n",
    "        \n",
    "print(\"Sensors skipped \" + str(n_sensors_pos) + \" of Sensors total \" + str(len(sensors)))"
   ]
  },
  {
   "cell_type": "markdown",
   "metadata": {},
   "source": [
    "<hr>\n",
    "\n",
    "## <span style=\"color:darkblue\">Datapoint Routes</span>"
   ]
  },
  {
   "cell_type": "markdown",
   "metadata": {
    "collapsed": true
   },
   "source": [
    "### Download JSON of all datapoints by Sensor ID\n",
    "<span style=\"color:green\">Set the Sensor ID!</span>"
   ]
  },
  {
   "cell_type": "code",
   "execution_count": 5,
   "metadata": {},
   "outputs": [],
   "source": [
    "sensor_id = 22"
   ]
  },
  {
   "cell_type": "code",
   "execution_count": 6,
   "metadata": {},
   "outputs": [
    {
     "name": "stdout",
     "output_type": "stream",
     "text": [
      "Route: https://greatlakestogulf.org/geostreams/api/datapoints?sensor_id=22\n",
      "Request Status: 200\n",
      "Number of datapoints: 107\n",
      "Datapoint JSON saved to downloads/datapoints_sensor_22.json\n"
     ]
    }
   ],
   "source": [
    "route = api_server + \"/api/datapoints?sensor_id=\" + str(sensor_id)\n",
    "\n",
    "r = requests.get(route, headers=headers)\n",
    "\n",
    "with open(output_directory + '/datapoints_sensor_' + str(sensor_id) + '.json', 'w') as f:\n",
    "    f.write(json.dumps(r.json(), indent=2))\n",
    "    \n",
    "print(\"Route: \" + route)\n",
    "print(\"Request Status:\", str(r.status_code))\n",
    "print(\"Number of datapoints:\", len(r.json()))\n",
    "print(\"Datapoint JSON saved to \" + output_directory + '/datapoints_sensor_' + str(sensor_id) + '.json')"
   ]
  },
  {
   "cell_type": "markdown",
   "metadata": {
    "collapsed": true
   },
   "source": [
    "### Download CSV of datapoints by sensor ID\n",
    "<span style=\"color:green\">Set the Sensor ID!</span>"
   ]
  },
  {
   "cell_type": "code",
   "execution_count": 7,
   "metadata": {},
   "outputs": [],
   "source": [
    "sensor_id = 22"
   ]
  },
  {
   "cell_type": "code",
   "execution_count": 8,
   "metadata": {},
   "outputs": [
    {
     "name": "stdout",
     "output_type": "stream",
     "text": [
      "Route: https://greatlakestogulf.org/geostreams/api/datapoints?sensor_id=22&format=csv\n",
      "Request Status: 200\n",
      "Datapoint JSON saved to downloads/datapoints_sensor_22.csv\n"
     ]
    }
   ],
   "source": [
    "route = api_server + \"/api/datapoints?sensor_id=\" + str(sensor_id) + \"&format=csv\"\n",
    "\n",
    "r = requests.get(route, headers=headers)\n",
    "\n",
    "with open(output_directory + '/datapoints_sensor_' + str(sensor_id) + '.csv', 'w') as f:\n",
    "    f.write(r.text)\n",
    "    \n",
    "print(\"Route: \" + route)\n",
    "print(\"Request Status:\", str(r.status_code))\n",
    "print(\"Datapoint JSON saved to \" + output_directory + '/datapoints_sensor_' + str(sensor_id) + '.csv')"
   ]
  },
  {
   "cell_type": "code",
   "execution_count": null,
   "metadata": {},
   "outputs": [],
   "source": []
  }
 ],
 "metadata": {
  "kernelspec": {
   "display_name": "Python 3",
   "language": "python",
   "name": "python3"
  },
  "language_info": {
   "codemirror_mode": {
    "name": "ipython",
    "version": 3
   },
   "file_extension": ".py",
   "mimetype": "text/x-python",
   "name": "python",
   "nbconvert_exporter": "python",
   "pygments_lexer": "ipython3",
   "version": "3.7.5"
  }
 },
 "nbformat": 4,
 "nbformat_minor": 2
}
