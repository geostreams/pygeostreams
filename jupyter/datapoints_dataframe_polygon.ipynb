{
 "cells": [
  {
   "cell_type": "markdown",
   "metadata": {},
   "source": [
    "# Get Datapoints by Polygon"
   ]
  },
  {
   "cell_type": "markdown",
   "metadata": {},
   "source": [
    "## Setup Servers and libraries\n",
    "\n",
    "<ul>\n",
    "    <li>Setup Python Env</li>\n",
    "    <ul><li>Read deployment.md</li></ul>\n",
    "    <li>Choose geostreams instance, e.g.</li>\n",
    "    <ul><li>https://greatlakestogulf.org/geostreams</li>\n",
    "        <li>https://illinois.greatlakestogulf.org/geostreams</li>\n",
    "    </ul>\n",
    "    <li>Create an Account on your instance of choice</li>\n",
    "</ul>"
   ]
  },
  {
   "cell_type": "code",
   "execution_count": null,
   "metadata": {},
   "outputs": [],
   "source": [
    "from pygeotemporal.sensors import SensorsApi\n",
    "from pygeotemporal.streams import StreamsApi\n",
    "from pygeotemporal.datapoints import DatapointsApi\n",
    "\n",
    "from datetime import datetime\n",
    "\n",
    "import matplotlib.pyplot as plt\n",
    "import pandas as pd\n",
    "\n",
    "host = r\"https://gltg-dev.ncsa.illinois.edu/geostreams\"\n",
    "username = \"\" # email for instance\n",
    "password = \"\" # password for instance\n",
    "\n",
    "sensorclient = SensorsApi(host=host, username=username, password=password)\n",
    "streamclient = StreamsApi(host=host, username=username, password=password)\n",
    "datapointclient = DatapointsApi(host=host, username=username, password=password)"
   ]
  },
  {
   "cell_type": "markdown",
   "metadata": {},
   "source": [
    "## Set Parameters for Getting Datapoints"
   ]
  },
  {
   "cell_type": "code",
   "execution_count": null,
   "metadata": {},
   "outputs": [],
   "source": [
    "since = '20060901' # Date to start getting datapoints\n",
    "until = '20200910' # Date to end getting datapoints\n",
    "sources = None\n",
    "format_out = \"json\" # Don't change unless you plan to change methods\n",
    "only_count = \"false\" # set to \"true\" to get number of datapoints without pulling datapoints\n",
    "\n",
    "geojson_input = {\n",
    "  \"coordinates\": [\n",
    "    [\n",
    "      [\n",
    "        -87.614822,\n",
    "        36.3239771\n",
    "      ],\n",
    "      [\n",
    "        -87.5488661,\n",
    "        35.7375952\n",
    "      ],\n",
    "      [\n",
    "        -85.8120269,\n",
    "        35.8178132\n",
    "      ],\n",
    "      [\n",
    "        -85.9549314,\n",
    "        36.3947567\n",
    "      ],\n",
    "      [\n",
    "        -87.614822,\n",
    "        36.3239771\n",
    "      ]\n",
    "    ]\n",
    "  ],\n",
    "  \"type\": \"Polygon\"\n",
    "}\n"
   ]
  },
  {
   "cell_type": "markdown",
   "metadata": {},
   "source": [
    "## Routine to Create Dataframe"
   ]
  },
  {
   "cell_type": "code",
   "execution_count": null,
   "metadata": {},
   "outputs": [],
   "source": [
    "\n",
    "# Create the geocode for the API\n",
    "geocode = ''\n",
    "for coord in geojson_input['coordinates'][0]:\n",
    "    geocode += str(round(coord[1],8)) + '%2C' + str(round(coord[0],8)) + '%2C'\n",
    "geocode = geocode[:-3]\n",
    "\n",
    "r = datapointclient.get_datapoints(\n",
    "                                    since=since, \n",
    "                                    until=until, \n",
    "                                    sources=sources, \n",
    "                                    format=format_out, \n",
    "                                    onlyCount=only_count,\n",
    "                                    geocode=geocode\n",
    ")\n",
    "\n",
    "\n",
    "datapoints = r.json()\n",
    "print(\"Downloaded %s datapoints\" % len(datapoints))\n",
    "\n",
    "all_parameters = []\n",
    "for datapoint in datapoints:\n",
    "    for param in datapoint['properties']:\n",
    "        if param == 'site':\n",
    "            continue\n",
    "        if param not in all_parameters:\n",
    "            all_parameters.append(param)\n",
    "\n",
    "# Order the column names\n",
    "if \"source\" in all_parameters:\n",
    "    all_parameters.insert(0, all_parameters.pop(all_parameters.index(\"source\")))\n",
    "if \"owner\" in all_parameters:\n",
    "    all_parameters.insert(0, all_parameters.pop(all_parameters.index(\"owner\")))\n",
    "\n",
    "all_parameters[2:] = sorted(all_parameters[2:])\n",
    "\n",
    "column_names = [\"sensor_id\", \"sensor_name\", \"datetime\", \"created\"] + all_parameters\n",
    "\n",
    "datapoint_rows = []\n",
    "for datapoint in datapoints:\n",
    "    row = []\n",
    "    row.append(datapoint['sensor_id'])\n",
    "    row.append(datapoint['sensor_name'])\n",
    "    row.append(datetime.strptime(datapoint['start_time'][:-4].replace('\"T\"','T'),'%Y-%m-%dT%H:%M'))\n",
    "    row.append(datetime.strptime(datapoint['created'][:-4].replace('\"T\"','T'),'%Y-%m-%dT%H:%M'))\n",
    "    \n",
    "    properties = sorted(datapoint['properties'])\n",
    "    \n",
    "    \n",
    "    for prop in all_parameters:\n",
    "        if prop == \"site\":\n",
    "            continue\n",
    "        if prop in datapoint['properties']:\n",
    "            row.append(datapoint['properties'][prop])\n",
    "        else:\n",
    "            row.append('')\n",
    "    datapoint_rows.append(row)\n",
    "    \n",
    "    \n",
    "df = pd.DataFrame(datapoint_rows, columns=column_names)\n",
    "for param in all_parameters[2:]:\n",
    "    df[param] = pd.to_numeric(df[param])"
   ]
  },
  {
   "cell_type": "markdown",
   "metadata": {},
   "source": [
    "## Show first 3 Rows of Dataframe "
   ]
  },
  {
   "cell_type": "code",
   "execution_count": null,
   "metadata": {
    "scrolled": true
   },
   "outputs": [],
   "source": [
    "df.head(3)"
   ]
  },
  {
   "cell_type": "markdown",
   "metadata": {},
   "source": [
    "## Show Statistics"
   ]
  },
  {
   "cell_type": "code",
   "execution_count": null,
   "metadata": {},
   "outputs": [],
   "source": [
    "df[all_parameters].describe()"
   ]
  },
  {
   "cell_type": "markdown",
   "metadata": {},
   "source": [
    "## Show Plots"
   ]
  },
  {
   "cell_type": "code",
   "execution_count": null,
   "metadata": {},
   "outputs": [],
   "source": [
    "for param in all_parameters[2:]:\n",
    "    df.plot(kind='line',x='datetime',y=param)"
   ]
  }
 ],
 "metadata": {
  "kernelspec": {
   "display_name": "jupyter_pip",
   "language": "python",
   "name": "jupyter_pip"
  },
  "language_info": {
   "codemirror_mode": {
    "name": "ipython",
    "version": 3
   },
   "file_extension": ".py",
   "mimetype": "text/x-python",
   "name": "python",
   "nbconvert_exporter": "python",
   "pygments_lexer": "ipython3",
   "version": "3.7.5"
  }
 },
 "nbformat": 4,
 "nbformat_minor": 4
}
