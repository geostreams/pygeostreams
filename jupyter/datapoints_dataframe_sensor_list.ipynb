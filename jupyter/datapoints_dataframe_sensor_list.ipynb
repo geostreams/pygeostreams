{
 "cells": [
  {
   "cell_type": "markdown",
   "metadata": {},
   "source": [
    "# Get Datapoints by List of Sensor IDs"
   ]
  },
  {
   "cell_type": "markdown",
   "metadata": {},
   "source": [
    "## Setup Servers and libraries\n",
    "\n",
    "<ul>\n",
    "    <li>Setup Python Env</li>\n",
    "    <ul><li>Read deployment.md</li></ul>\n",
    "    <li>Choose geostreams instance, e.g.</li>\n",
    "    <ul><li>https://greatlakestogulf.org/geostreams</li>\n",
    "        <li>https://illinois.greatlakestogulf.org/geostreams</li>\n",
    "    </ul>\n",
    "    <li>Create an Account on your instance of choice</li>\n",
    "</ul>"
   ]
  },
  {
   "cell_type": "code",
   "execution_count": null,
   "metadata": {},
   "outputs": [],
   "source": [
    "from pygeotemporal.sensors import SensorsApi\n",
    "from pygeotemporal.streams import StreamsApi\n",
    "from pygeotemporal.datapoints import DatapointsApi\n",
    "\n",
    "from datetime import datetime\n",
    "\n",
    "import matplotlib.pyplot as plt\n",
    "import pandas as pd\n",
    "\n",
    "host = r\"https://gltg-dev.ncsa.illinois.edu/geostreams\"\n",
    "username = \"\" # email for instance\n",
    "password = \"\" # password for instance\n",
    "\n",
    "username = \"slavenas@illinois.edu\"\n",
    "password = \"medicici\"\n",
    "\n",
    "sensorclient = SensorsApi(host=host, username=username, password=password)\n",
    "streamclient = StreamsApi(host=host, username=username, password=password)\n",
    "datapointclient = DatapointsApi(host=host, username=username, password=password)"
   ]
  },
  {
   "cell_type": "markdown",
   "metadata": {},
   "source": [
    "## Set Parameters for Getting Datapoints"
   ]
  },
  {
   "cell_type": "code",
   "execution_count": null,
   "metadata": {},
   "outputs": [],
   "source": [
    "sensor_ids = [8404, 8407] # Can be any length, but don't pull everything at once\n",
    "since = '20200901' # Date to start getting datapoints\n",
    "until = '20200910' # Date to end getting datapoints\n",
    "sources = None\n",
    "format_out = \"json\" # Don't change unless you plan to change methods\n",
    "only_count = \"false\" # set to \"true\" to get number of datapoints without pulling datapoints"
   ]
  },
  {
   "cell_type": "markdown",
   "metadata": {},
   "source": [
    "## Routine to Create Dataframe"
   ]
  },
  {
   "cell_type": "code",
   "execution_count": null,
   "metadata": {
    "scrolled": true
   },
   "outputs": [],
   "source": [
    "all_parameters = []\n",
    "\n",
    "# Get all parameters for all sensors\n",
    "for sensor_id in sensor_ids:    \n",
    "    sensor = sensorclient.sensor_get(sensor_id).json()['sensor']\n",
    "    \n",
    "    if sensor['max_end_time'] == 'N/A':\n",
    "        print(\"Updating sensor statistics for sensor_id=%s\" % sensor_id)\n",
    "        sensorclient.sensor_statistics_post(sensor_id)\n",
    "\n",
    "    for parameter in sensor['parameters']:\n",
    "        if parameter[-2:] == 'qc':\n",
    "            continue\n",
    "        if parameter not in all_parameters:\n",
    "            all_parameters.append(parameter)\n",
    "\n",
    "\n",
    "# Get all datapoints from sensor_ids\n",
    "all_datapoints = []\n",
    "n_bad_datapoints = 0\n",
    "\n",
    "for sensor_id in sensor_ids:\n",
    "    r = datapointclient.get_datapoints(\n",
    "                                        sensor_id=sensor_id, \n",
    "                                        since=since, \n",
    "                                        until=until, \n",
    "                                        sources=sources, \n",
    "                                        format=format_out, \n",
    "                                        onlyCount=only_count\n",
    "    )\n",
    "       \n",
    "    if r.status_code != 200:\n",
    "        print(\"Datapoints download for sensor %s failed with status code %s\" % (sensor_id, r.status_code))\n",
    "        continue\n",
    "        \n",
    "    datapoints = r.json()\n",
    "    \n",
    "    for datapoint in datapoints:\n",
    "        row = []\n",
    "        row.append(sensor['id'])\n",
    "        row.append(sensor['name'])\n",
    "        row.append(sensor['geometry']['coordinates'][1])\n",
    "        row.append(sensor['geometry']['coordinates'][0])\n",
    "        row.append(sensor['properties']['huc']['huc_name'])\n",
    "        row.append(sensor['properties']['huc']['huc8']['code'])\n",
    "        \n",
    "        try:\n",
    "            row.append(datetime.strptime(datapoint['end_time'][:-4].replace('\"T\"','T'),'%Y-%m-%dT%H:%M'))\n",
    "        except:\n",
    "            n_bad_datapoints += 1\n",
    "            continue\n",
    "              \n",
    "        for parameter in all_parameters:\n",
    "            if parameter in datapoint['properties']:\n",
    "                row.append(datapoint['properties'][parameter])\n",
    "            else:\n",
    "                row.append('')\n",
    "                \n",
    "        all_datapoints.append(row)\n",
    "    \n",
    "sensor_values = ['SENSOR_ID','NAME','LATITUDE','LONGITUDE','HUC NAME','HUC8']\n",
    "columns = sensor_values + ['datetime'] + all_parameters\n",
    "\n",
    "# Create dataframe\n",
    "df = pd.DataFrame(all_datapoints,columns=columns)\n",
    "for param in all_parameters:\n",
    "    df[param] = pd.to_numeric(df[param])"
   ]
  },
  {
   "cell_type": "markdown",
   "metadata": {},
   "source": [
    "## Show first 3 Rows of Dataframe "
   ]
  },
  {
   "cell_type": "code",
   "execution_count": null,
   "metadata": {},
   "outputs": [],
   "source": [
    "df.head(3)"
   ]
  },
  {
   "cell_type": "markdown",
   "metadata": {},
   "source": [
    "## Show Statistics"
   ]
  },
  {
   "cell_type": "code",
   "execution_count": null,
   "metadata": {},
   "outputs": [],
   "source": [
    "df[all_parameters].describe()"
   ]
  },
  {
   "cell_type": "markdown",
   "metadata": {},
   "source": [
    "## Show Plots"
   ]
  },
  {
   "cell_type": "code",
   "execution_count": null,
   "metadata": {},
   "outputs": [],
   "source": [
    "for param in all_parameters:\n",
    "    df.plot(kind='line',x='datetime',y=param)"
   ]
  }
 ],
 "metadata": {
  "kernelspec": {
   "display_name": "jupyter_pip",
   "language": "python",
   "name": "jupyter_pip"
  },
  "language_info": {
   "codemirror_mode": {
    "name": "ipython",
    "version": 3
   },
   "file_extension": ".py",
   "mimetype": "text/x-python",
   "name": "python",
   "nbconvert_exporter": "python",
   "pygments_lexer": "ipython3",
   "version": "3.7.5"
  }
 },
 "nbformat": 4,
 "nbformat_minor": 4
}
