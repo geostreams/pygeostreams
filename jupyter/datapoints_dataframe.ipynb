{
 "cells": [
  {
   "cell_type": "code",
   "execution_count": null,
   "metadata": {},
   "outputs": [],
   "source": [
    "from pygeotemporal.sensors import SensorsApi\n",
    "from pygeotemporal.streams import StreamsApi\n",
    "from pygeotemporal.datapoints import DatapointsApi\n",
    "\n",
    "import matplotlib.pyplot as plt\n",
    "import pandas as pd\n",
    "\n",
    "from datetime import datetime\n",
    "from dateutil.parser import parse\n",
    "\n",
    "from pprint import pprint\n",
    "\n",
    "\n",
    "host = r\"https://gltg-dev.ncsa.illinois.edu/geostreams\"\n",
    "username = \"\"\n",
    "password = \"\"\n",
    "\n",
    "output_directory = r\"downloads\"\n",
    "\n",
    "sensorclient = SensorsApi(host=host, username=username, password=password)\n",
    "streamclient = StreamsApi(host=host, username=username, password=password)\n",
    "datapointclient = DatapointsApi(host=host, username=username, password=password)"
   ]
  },
  {
   "cell_type": "code",
   "execution_count": null,
   "metadata": {},
   "outputs": [],
   "source": [
    "sensor_ids = [8404, 8407]\n",
    "sensors = []\n",
    "datapoint_rows = []\n",
    "all_parameters = []\n",
    "start_time = None\n",
    "end_time = None"
   ]
  },
  {
   "cell_type": "code",
   "execution_count": null,
   "metadata": {},
   "outputs": [],
   "source": [
    "for sensor_id in sensor_ids:    \n",
    "    sensor = sensorclient.sensor_get(sensor_id).json()['sensor']\n",
    "    \n",
    "    if sensor['max_end_time'] == 'N/A':\n",
    "        print(\"Updating sensor statistics for sensor_id=%s\" % sensor_id)\n",
    "        sensorclient.sensor_statistics_post(sensor_id)\n",
    "\n",
    "    for parameter in sensor['parameters']:\n",
    "        if parameter[-2:] == 'qc':\n",
    "            continue\n",
    "        if parameter not in all_parameters:\n",
    "            all_parameters.append(parameter)\n",
    "            \n",
    "    # Get maximum time range for all sensors\n",
    "    if end_time is None or sensor['max_end_time'] > end_time:\n",
    "        end_time = sensor['max_end_time']\n",
    "    if start_time is None or sensor['min_start_time'] < start_time:\n",
    "        start_time = sensor['min_start_time']\n",
    "\n",
    "    end_time_all = datetime.strptime(end_time[:-4],'%Y-%m-%dT%H:%M')\n",
    "    start_time_all = datetime.strptime(start_time[:-4],'%Y-%m-%dT%H:%M')\n"
   ]
  },
  {
   "cell_type": "code",
   "execution_count": null,
   "metadata": {},
   "outputs": [],
   "source": [
    "rows = []\n",
    "for sensor_id in sensor_ids:    \n",
    "    datapoints = datapointclient.get_datapoints_by_sensor_id(sensor_id, since='20200101').json()\n",
    "\n",
    "    for datapoint in datapoints:\n",
    "        row = []\n",
    "        row.append(sensor['id'])\n",
    "        row.append(sensor['name'])\n",
    "        row.append(sensor['geometry']['coordinates'][1])\n",
    "        row.append(sensor['geometry']['coordinates'][0])\n",
    "        row.append(sensor['properties']['huc']['huc_name'])\n",
    "        row.append(sensor['properties']['huc']['huc8']['code'])\n",
    "        try:\n",
    "            row.append(datetime.strptime(datapoint['end_time'][:-4].replace('\"T\"','T'),'%Y-%m-%dT%H:%M'))\n",
    "        except:\n",
    "            pprint(datapoint)\n",
    "            break\n",
    "              \n",
    "        for parameter in all_parameters:\n",
    "            if parameter in datapoint['properties']:\n",
    "                row.append(datapoint['properties'][parameter])\n",
    "            else:\n",
    "                row.append('')\n",
    "                \n",
    "        rows.append(row)\n",
    "    \n",
    "sensor_values = ['SENSOR_ID','NAME','LATITUDE','LONGITUDE','HUC NAME','HUC8']\n",
    "columns = sensor_values + ['datetime'] + all_parameters\n",
    "\n",
    "df = pd.DataFrame(rows,columns=columns)\n",
    "for param in all_parameters:\n",
    "    df[param] = pd.to_numeric(df[param])\n",
    "df.head(3)"
   ]
  },
  {
   "cell_type": "code",
   "execution_count": null,
   "metadata": {},
   "outputs": [],
   "source": [
    "df[all_parameters].describe()"
   ]
  },
  {
   "cell_type": "code",
   "execution_count": null,
   "metadata": {},
   "outputs": [],
   "source": [
    "for param in all_parameters:\n",
    "    df.plot(kind='line',x='datetime',y=param)"
   ]
  }
 ],
 "metadata": {
  "kernelspec": {
   "display_name": "Python 3",
   "language": "python",
   "name": "python3"
  },
  "language_info": {
   "codemirror_mode": {
    "name": "ipython",
    "version": 3
   },
   "file_extension": ".py",
   "mimetype": "text/x-python",
   "name": "python",
   "nbconvert_exporter": "python",
   "pygments_lexer": "ipython3",
   "version": "3.7.6"
  }
 },
 "nbformat": 4,
 "nbformat_minor": 4
}
