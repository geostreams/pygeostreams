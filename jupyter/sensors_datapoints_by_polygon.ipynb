{
 "cells": [
  {
   "cell_type": "markdown",
   "metadata": {},
   "source": [
    "# <font color='blue'> Create Pandas Dataframes by Polygon</font>"
   ]
  },
  {
   "cell_type": "markdown",
   "metadata": {},
   "source": [
    "## Overview\n",
    "This notebook allows a user to fetch Sensors and Datapoints from the [Geostreaming API]( https://github.com/geostreams/geostreams) by inputing a polygon as list of geographical coordinates.  In addition, you can set the start and end time of datapoints and choose which data source institutions to pull from.\n",
    "\n",
    "This notebook has functionality to create a Pandas Dataframe sensors and datapoints.  The sensor dataframe lists each sensor's metadata.  The datapoints dataframe contains all the available measurement values for each datapoint along with the sensor is for that dataframe.\n",
    "\n",
    "<hr>"
   ]
  },
  {
   "cell_type": "markdown",
   "metadata": {},
   "source": [
    "### Setup Servers and libraries\n",
    "\n",
    "<ul>\n",
    "    <li>Setup Python Env</li>\n",
    "    <ul><li>Read deployment.md</li></ul>\n",
    "    <li>Choose geostreams instance by populating host below, e.g.</li>\n",
    "    <ul><li>https://greatlakestogulf.org/geostreams</li>\n",
    "        <li>https://illinois.greatlakestogulf.org/geostreams</li>\n",
    "    </ul>\n",
    "    <li>Create an Account on your instance of choice</li>\n",
    "    <ul><li>Populate username and password</li></ul>\n",
    "</ul>"
   ]
  },
  {
   "cell_type": "code",
   "execution_count": null,
   "metadata": {},
   "outputs": [],
   "source": [
    "from pygeotemporal.sensors import SensorsApi\n",
    "from pygeotemporal.streams import StreamsApi\n",
    "from pygeotemporal.datapoints import DatapointsApi\n",
    "\n",
    "from datetime import datetime\n",
    "\n",
    "import matplotlib.pyplot as plt\n",
    "import pandas as pd\n",
    "\n",
    "host = r\"https://gltg-dev.ncsa.illinois.edu/geostreams\"\n",
    "username = \"\" # your email \n",
    "password = \"\" # password for instance\n",
    "\n",
    "sensorclient = SensorsApi(host=host, username=username, password=password)\n",
    "streamclient = StreamsApi(host=host, username=username, password=password)\n",
    "datapointclient = DatapointsApi(host=host, username=username, password=password)\n",
    "\n",
    "from pprint import pprint"
   ]
  },
  {
   "cell_type": "markdown",
   "metadata": {},
   "source": [
    "### Set Parameters for Getting Sensors and Datapoints"
   ]
  },
  {
   "cell_type": "code",
   "execution_count": null,
   "metadata": {},
   "outputs": [],
   "source": [
    "since = '20060901' # Date to start getting datapoints\n",
    "until = '20200910' # Date to end getting datapoints\n",
    "sources = None\n",
    "format_out = \"json\" # Don't change unless you plan to change methods\n",
    "only_count = \"false\" # set to \"true\" to get number of datapoints without pulling datapoints\n",
    "\n",
    "coordinates = [\n",
    "                [\n",
    "                    -87.614822,\n",
    "                    36.3239771\n",
    "                ],\n",
    "                [\n",
    "                    -87.5488661,\n",
    "                    35.7375952\n",
    "                ],\n",
    "                [\n",
    "                    -85.8120269,\n",
    "                    35.8178132\n",
    "                ],\n",
    "                [\n",
    "                    -85.9549314,\n",
    "                    36.3947567\n",
    "                ],\n",
    "                [\n",
    "                    -87.614822,\n",
    "                    36.3239771\n",
    "                ]\n",
    "            ]\n",
    "  \n"
   ]
  },
  {
   "cell_type": "markdown",
   "metadata": {},
   "source": [
    "### Functions' descriptions\n",
    "\n",
    "<ul>\n",
    "    <li>create_geocode(): create geocode string for geostreams URL</li>\n",
    "    <li>get_sensors_by_geocode(geocode): get all sensors within the polygon</li>\n",
    "    <li>get_sensors_parameters(sensors): get all available measurement names</li>\n",
    "    <li>create_sensor_dataframe(sensors): create dataframe rows of sensor metadata</li>\n",
    "    <li>get_datapoints(sensors): get all datapoints from sensors</li>\n",
    "    <li>create_datapoints_dataframe(datapoints, sensors_parameters): rows a datapoints</li>\n",
    "</ul>"
   ]
  },
  {
   "cell_type": "code",
   "execution_count": null,
   "metadata": {},
   "outputs": [],
   "source": [
    "def create_geocode():\n",
    "    \n",
    "    geocode = ''    \n",
    "    for coord in coordinates:\n",
    "        geocode += str(round(coord[1],8)) + '%2C' + str(round(coord[0],8)) + '%2C'\n",
    "    geocode = geocode[:-3]\n",
    "    \n",
    "    return geocode\n",
    "\n",
    "def get_sensors_by_geocode(geocode):\n",
    "    r = sensorclient.sensors_by_polygon(geocode)\n",
    "    \n",
    "    if r.status_code != 200:\n",
    "        print(\"Failed to get sensors with status code %s\" % r.status_code)\n",
    "        \n",
    "    sensors = r.json()['sensors']\n",
    "    \n",
    "    print(\"Downloaded %s sensors\" % len(sensors))\n",
    "    \n",
    "    return sensors\n",
    "\n",
    "def get_sensors_parameters(sensors):\n",
    "    sensors_parameters = []\n",
    "    for sensor in sensors:\n",
    "        for param in sensor['parameters']:\n",
    "            if param in sensors_parameters or param in ['owner','site','source']:\n",
    "                continue\n",
    "            sensors_parameters.append(param)\n",
    "        break\n",
    "    \n",
    "    return sensors_parameters\n",
    "\n",
    "def create_sensor_dataframe(sensors):\n",
    "    \n",
    "    sensor_rows = []\n",
    "    for sensor in sensors:\n",
    "        row = []\n",
    "        row.append(sensor['id'])\n",
    "        row.append(sensor['name'])\n",
    "        if 'type' in sensor['properties'] and 'network' in sensor['properties']['type']:\n",
    "            row.append(sensor['properties']['type']['network'])\n",
    "        else:\n",
    "            row.append('')\n",
    "        row.append(sensor['min_start_time'])\n",
    "        row.append(sensor['max_end_time'])\n",
    "        row.append(sensor['geometry']['coordinates'][1])\n",
    "        row.append(sensor['geometry']['coordinates'][0])\n",
    "        if 'huc_name' in sensor['properties']['huc']:\n",
    "            row.append(sensor['properties']['huc']['huc_name'])\n",
    "        else:\n",
    "            row.append('')\n",
    "        row.append(sensor['properties']['huc']['huc8']['code'])\n",
    "        \n",
    "        sensor_rows.append(row)\n",
    "\n",
    "    sensors_dataframe = pd.DataFrame(sensor_rows,columns=['SENSOR_ID',\n",
    "                                                            'NAME',\n",
    "                                                            'NETWORK',\n",
    "                                                            'DATA_START',\n",
    "                                                            'DATA_END',\n",
    "                                                            'LATITUDE',\n",
    "                                                            'LONGITUDE',\n",
    "                                                            'HUC NAME',\n",
    "                                                            'HUC8'])       \n",
    "    return sensors_dataframe\n",
    "\n",
    "def get_datapoints(sensors):\n",
    "    \n",
    "    all_datapoints = []\n",
    "\n",
    "    for sensor in sensors:\n",
    "        r = datapointclient.get_datapoints(\n",
    "                                            sensor_id=sensor['id'], \n",
    "                                            since=since, \n",
    "                                            until=until, \n",
    "                                            sources=sources, \n",
    "                                            format=format_out, \n",
    "                                            onlyCount=only_count\n",
    "        )\n",
    "\n",
    "        if r.status_code != 200:\n",
    "            print(\"Datapoints download for sensor %s failed with status code %s\" % (sensor_id, r.status_code))\n",
    "            continue\n",
    "        \n",
    "        all_datapoints += r.json()\n",
    "        \n",
    "    return all_datapoints\n",
    "\n",
    "def create_datapoints_dataframe(datapoints, sensors_parameters):\n",
    "    \n",
    "    column_names = ['sensor_id','datetime','created'] + sensors_parameters\n",
    "    datapoint_rows = []\n",
    "    for datapoint in datapoints:\n",
    "        row = []\n",
    "        row.append(datapoint['sensor_id'])\n",
    "        row.append(datetime.strptime(datapoint['start_time'][:-4].replace('\"T\"','T'),'%Y-%m-%dT%H:%M'))\n",
    "        row.append(datetime.strptime(datapoint['created'][:-4].replace('\"T\"','T'),'%Y-%m-%dT%H:%M'))\n",
    "    \n",
    "    \n",
    "        for prop in sensors_parameters:\n",
    "            if prop == \"site\":\n",
    "                continue\n",
    "            if prop in datapoint['properties']:\n",
    "                row.append(datapoint['properties'][prop])\n",
    "            else:\n",
    "                row.append('')\n",
    "        datapoint_rows.append(row)\n",
    "        \n",
    "    datapoint_dataframe = pd.DataFrame(datapoint_rows, columns=column_names)\n",
    "    for param in column_names[3:]:\n",
    "        datapoint_dataframe[param] = pd.to_numeric(datapoint_dataframe[param])\n",
    "        \n",
    "    return datapoint_dataframe\n",
    "    "
   ]
  },
  {
   "cell_type": "code",
   "execution_count": null,
   "metadata": {},
   "outputs": [],
   "source": [
    "geocode = create_geocode()\n",
    "\n",
    "sensors = get_sensors_by_geocode(geocode)\n",
    "\n",
    "sensors_parameters = get_sensors_parameters(sensors)\n",
    "\n",
    "sensor_dataframe = create_sensor_dataframe(sensors)\n",
    "\n",
    "datapoints = get_datapoints(sensors)\n",
    "\n",
    "datapoints_dataframe = create_datapoints_dataframe(datapoints, sensors_parameters)\n",
    "\n"
   ]
  },
  {
   "cell_type": "markdown",
   "metadata": {},
   "source": [
    "### Sample data for sensor dataframe"
   ]
  },
  {
   "cell_type": "code",
   "execution_count": null,
   "metadata": {
    "scrolled": true
   },
   "outputs": [],
   "source": [
    "display(sensor_dataframe.head(3))\n",
    "display(sensor_dataframe.tail(3)) "
   ]
  },
  {
   "cell_type": "markdown",
   "metadata": {},
   "source": [
    "### Sample data and statistics for datapoints dataframe"
   ]
  },
  {
   "cell_type": "code",
   "execution_count": null,
   "metadata": {},
   "outputs": [],
   "source": [
    "display(datapoints_dataframe.head(3))\n",
    "display(datapoints_dataframe.tail(3))\n",
    "\n",
    "display(datapoints_dataframe[sensors_parameters].describe())"
   ]
  },
  {
   "cell_type": "markdown",
   "metadata": {},
   "source": [
    "### Plots for datapoints dataframe"
   ]
  },
  {
   "cell_type": "code",
   "execution_count": null,
   "metadata": {},
   "outputs": [],
   "source": [
    "for param in sensors_parameters:\n",
    "    datapoints_dataframe.plot(kind='line',x='datetime',y=param)"
   ]
  },
  {
   "cell_type": "code",
   "execution_count": null,
   "metadata": {},
   "outputs": [],
   "source": []
  }
 ],
 "metadata": {
  "kernelspec": {
   "display_name": "jupyter",
   "language": "python",
   "name": "jupyter"
  },
  "language_info": {
   "codemirror_mode": {
    "name": "ipython",
    "version": 3
   },
   "file_extension": ".py",
   "mimetype": "text/x-python",
   "name": "python",
   "nbconvert_exporter": "python",
   "pygments_lexer": "ipython3",
   "version": "3.7.7"
  }
 },
 "nbformat": 4,
 "nbformat_minor": 2
}
